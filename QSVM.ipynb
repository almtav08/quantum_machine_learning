{
  "cells": [
    {
      "cell_type": "markdown",
      "metadata": {
        "id": "LJyu4hfuQKyE"
      },
      "source": [
        "## Load data"
      ]
    },
    {
      "cell_type": "code",
      "execution_count": 1,
      "metadata": {
        "id": "jZO_XqJpQJzp"
      },
      "outputs": [],
      "source": [
        "import matplotlib.pyplot as plt\n",
        "import numpy as np\n",
        "\n",
        "from sklearn.model_selection import train_test_split\n",
        "from sklearn.decomposition import PCA\n",
        "from sklearn.preprocessing import StandardScaler, MinMaxScaler\n",
        "from sklearn import datasets\n",
        "from sklearn.utils import shuffle\n",
        "\n",
        "import pandas as pd\n",
        "\n",
        "import seaborn as sns"
      ]
    },
    {
      "cell_type": "code",
      "execution_count": 2,
      "metadata": {
        "id": "jXXKZ-DARLFY"
      },
      "outputs": [],
      "source": [
        "##Load the dataset\n",
        "cov_dataset = datasets.fetch_covtype()\n",
        "\n",
        "data = cov_dataset['data']\n",
        "target = cov_dataset['target']\n",
        "features = cov_dataset['feature_names']"
      ]
    },
    {
      "cell_type": "code",
      "execution_count": 3,
      "metadata": {
        "colab": {
          "base_uri": "https://localhost:8080/"
        },
        "id": "daVaotmPaNRU",
        "outputId": "9e01dc58-7e21-4edd-9d00-963e625e1c4f"
      },
      "outputs": [
        {
          "data": {
            "text/plain": [
              "array([5, 2, 1, 7, 3, 6, 4])"
            ]
          },
          "execution_count": 3,
          "metadata": {},
          "output_type": "execute_result"
        }
      ],
      "source": [
        "##Check target values\n",
        "target_df = pd.DataFrame(target, columns = ['Type'])\n",
        "target_df.Type.unique()"
      ]
    },
    {
      "cell_type": "markdown",
      "metadata": {},
      "source": [
        "## Classifier Config"
      ]
    },
    {
      "cell_type": "code",
      "execution_count": 3,
      "metadata": {},
      "outputs": [],
      "source": [
        "from qiskit import BasicAer, execute\n",
        "from qiskit.circuit.library import ZZFeatureMap, PauliFeatureMap, NLocal\n",
        "from qiskit.circuit import QuantumCircuit, ParameterVector\n",
        "from qiskit.utils import QuantumInstance, algorithm_globals\n",
        "from qiskit_machine_learning.algorithms import QSVC, PegasosQSVC\n",
        "from qiskit_machine_learning.kernels import QuantumKernel\n",
        "from qiskit_machine_learning.kernels.algorithms import QuantumKernelTrainer\n",
        "from qiskit.algorithms.optimizers import SPSA\n",
        "\n",
        "from sklearn.svm import SVC\n",
        "from pylab import cm\n",
        "\n",
        "import time\n",
        "\n",
        "seed = 12345\n",
        "algorithm_globals.random_seed = seed"
      ]
    },
    {
      "cell_type": "code",
      "execution_count": 4,
      "metadata": {},
      "outputs": [],
      "source": [
        "##Entanglements\n",
        "entanglements = ['linear', 'circular']\n",
        "\n",
        "##Codifcation circuits\n",
        "circuits = ['ZZFearuteMap', 'PauliFeatureMap', 'NLocal']\n",
        "\n",
        "##QSVM Models\n",
        "models = ['QSVC', 'PegasosQSVC']\n",
        "\n",
        "##Feature number\n",
        "dim = 10\n",
        "\n",
        "##Paulis for PauliFeatureMap\n",
        "paulis = ['X', 'Y', 'ZZ']"
      ]
    },
    {
      "cell_type": "code",
      "execution_count": 5,
      "metadata": {},
      "outputs": [
        {
          "data": {
            "text/plain": [
              "<qiskit.circuit.instructionset.InstructionSet at 0x16f7d108ac0>"
            ]
          },
          "execution_count": 5,
          "metadata": {},
          "output_type": "execute_result"
        }
      ],
      "source": [
        "##NLocal config\n",
        "params = ParameterVector('n', dim)\n",
        "\n",
        "#Rotation block:\n",
        "rot = QuantumCircuit(4)\n",
        "rot.rz(params[0], 0)\n",
        "rot.rx(params[1], 1)\n",
        "rot.ry(params[2], 2)\n",
        "rot.ry(params[3], 3)\n",
        "\n",
        "#Entanglement block:\n",
        "ent = QuantumCircuit(5) \n",
        "ent.crx(params[4], 0, 1)\n",
        "ent.crx(params[5], 2, 3)\n",
        "ent.cry(params[6], 0, 2)\n",
        "ent.cry(params[7], 1, 3)\n",
        "ent.crz(params[8], 1, 2)\n",
        "ent.crz(params[9], 0, 3)"
      ]
    },
    {
      "cell_type": "markdown",
      "metadata": {},
      "source": [
        "## Binary Classficaction"
      ]
    },
    {
      "cell_type": "code",
      "execution_count": 6,
      "metadata": {
        "id": "sUlOQwueahNB"
      },
      "outputs": [],
      "source": [
        "##Filter classes to have 2\n",
        "filtered_data = data[target < 3]\n",
        "filtered_target = target[target < 3]"
      ]
    },
    {
      "cell_type": "code",
      "execution_count": 7,
      "metadata": {},
      "outputs": [],
      "source": [
        "##Take amount of data from the filtered data\n",
        "amount = 6000\n",
        "\n",
        "filtered_data = np.concatenate((filtered_data[filtered_target==1][:amount], filtered_data[filtered_target==2][:amount]))\n",
        "filtered_target = np.concatenate((filtered_target[filtered_target==1][:amount], filtered_target[filtered_target==2][:amount]))\n",
        "\n",
        "filtered_data, filtered_target = shuffle(filtered_data, filtered_target, random_state=0)"
      ]
    },
    {
      "cell_type": "markdown",
      "metadata": {},
      "source": [
        "### Study data"
      ]
    },
    {
      "cell_type": "code",
      "execution_count": 6,
      "metadata": {
        "colab": {
          "base_uri": "https://localhost:8080/"
        },
        "id": "U4WOYLXta-cu",
        "outputId": "9ba48535-70a5-4089-b970-d816cbd37f92"
      },
      "outputs": [
        {
          "data": {
            "text/html": [
              "<div>\n",
              "<style scoped>\n",
              "    .dataframe tbody tr th:only-of-type {\n",
              "        vertical-align: middle;\n",
              "    }\n",
              "\n",
              "    .dataframe tbody tr th {\n",
              "        vertical-align: top;\n",
              "    }\n",
              "\n",
              "    .dataframe thead th {\n",
              "        text-align: right;\n",
              "    }\n",
              "</style>\n",
              "<table border=\"1\" class=\"dataframe\">\n",
              "  <thead>\n",
              "    <tr style=\"text-align: right;\">\n",
              "      <th></th>\n",
              "      <th>Elevation</th>\n",
              "      <th>Aspect</th>\n",
              "      <th>Slope</th>\n",
              "      <th>Horizontal_Distance_To_Hydrology</th>\n",
              "      <th>Vertical_Distance_To_Hydrology</th>\n",
              "      <th>Horizontal_Distance_To_Roadways</th>\n",
              "      <th>Hillshade_9am</th>\n",
              "      <th>Hillshade_Noon</th>\n",
              "      <th>Hillshade_3pm</th>\n",
              "      <th>Horizontal_Distance_To_Fire_Points</th>\n",
              "      <th>...</th>\n",
              "      <th>Soil_Type_30</th>\n",
              "      <th>Soil_Type_31</th>\n",
              "      <th>Soil_Type_32</th>\n",
              "      <th>Soil_Type_33</th>\n",
              "      <th>Soil_Type_34</th>\n",
              "      <th>Soil_Type_35</th>\n",
              "      <th>Soil_Type_36</th>\n",
              "      <th>Soil_Type_37</th>\n",
              "      <th>Soil_Type_38</th>\n",
              "      <th>Soil_Type_39</th>\n",
              "    </tr>\n",
              "  </thead>\n",
              "  <tbody>\n",
              "    <tr>\n",
              "      <th>0</th>\n",
              "      <td>2909.0</td>\n",
              "      <td>294.0</td>\n",
              "      <td>25.0</td>\n",
              "      <td>182.0</td>\n",
              "      <td>88.0</td>\n",
              "      <td>5144.0</td>\n",
              "      <td>141.0</td>\n",
              "      <td>224.0</td>\n",
              "      <td>219.0</td>\n",
              "      <td>4775.0</td>\n",
              "      <td>...</td>\n",
              "      <td>0.0</td>\n",
              "      <td>0.0</td>\n",
              "      <td>0.0</td>\n",
              "      <td>0.0</td>\n",
              "      <td>0.0</td>\n",
              "      <td>0.0</td>\n",
              "      <td>0.0</td>\n",
              "      <td>0.0</td>\n",
              "      <td>0.0</td>\n",
              "      <td>0.0</td>\n",
              "    </tr>\n",
              "    <tr>\n",
              "      <th>1</th>\n",
              "      <td>3044.0</td>\n",
              "      <td>68.0</td>\n",
              "      <td>10.0</td>\n",
              "      <td>492.0</td>\n",
              "      <td>26.0</td>\n",
              "      <td>6633.0</td>\n",
              "      <td>231.0</td>\n",
              "      <td>220.0</td>\n",
              "      <td>121.0</td>\n",
              "      <td>2760.0</td>\n",
              "      <td>...</td>\n",
              "      <td>0.0</td>\n",
              "      <td>0.0</td>\n",
              "      <td>0.0</td>\n",
              "      <td>0.0</td>\n",
              "      <td>0.0</td>\n",
              "      <td>0.0</td>\n",
              "      <td>0.0</td>\n",
              "      <td>0.0</td>\n",
              "      <td>0.0</td>\n",
              "      <td>0.0</td>\n",
              "    </tr>\n",
              "    <tr>\n",
              "      <th>2</th>\n",
              "      <td>2669.0</td>\n",
              "      <td>137.0</td>\n",
              "      <td>17.0</td>\n",
              "      <td>30.0</td>\n",
              "      <td>6.0</td>\n",
              "      <td>1776.0</td>\n",
              "      <td>244.0</td>\n",
              "      <td>232.0</td>\n",
              "      <td>111.0</td>\n",
              "      <td>6508.0</td>\n",
              "      <td>...</td>\n",
              "      <td>0.0</td>\n",
              "      <td>0.0</td>\n",
              "      <td>0.0</td>\n",
              "      <td>0.0</td>\n",
              "      <td>0.0</td>\n",
              "      <td>0.0</td>\n",
              "      <td>0.0</td>\n",
              "      <td>0.0</td>\n",
              "      <td>0.0</td>\n",
              "      <td>0.0</td>\n",
              "    </tr>\n",
              "    <tr>\n",
              "      <th>3</th>\n",
              "      <td>3069.0</td>\n",
              "      <td>243.0</td>\n",
              "      <td>25.0</td>\n",
              "      <td>808.0</td>\n",
              "      <td>-21.0</td>\n",
              "      <td>4143.0</td>\n",
              "      <td>162.0</td>\n",
              "      <td>250.0</td>\n",
              "      <td>218.0</td>\n",
              "      <td>1198.0</td>\n",
              "      <td>...</td>\n",
              "      <td>0.0</td>\n",
              "      <td>0.0</td>\n",
              "      <td>1.0</td>\n",
              "      <td>0.0</td>\n",
              "      <td>0.0</td>\n",
              "      <td>0.0</td>\n",
              "      <td>0.0</td>\n",
              "      <td>0.0</td>\n",
              "      <td>0.0</td>\n",
              "      <td>0.0</td>\n",
              "    </tr>\n",
              "    <tr>\n",
              "      <th>4</th>\n",
              "      <td>2632.0</td>\n",
              "      <td>97.0</td>\n",
              "      <td>8.0</td>\n",
              "      <td>150.0</td>\n",
              "      <td>-10.0</td>\n",
              "      <td>1026.0</td>\n",
              "      <td>233.0</td>\n",
              "      <td>229.0</td>\n",
              "      <td>129.0</td>\n",
              "      <td>5858.0</td>\n",
              "      <td>...</td>\n",
              "      <td>0.0</td>\n",
              "      <td>0.0</td>\n",
              "      <td>0.0</td>\n",
              "      <td>0.0</td>\n",
              "      <td>0.0</td>\n",
              "      <td>0.0</td>\n",
              "      <td>0.0</td>\n",
              "      <td>0.0</td>\n",
              "      <td>0.0</td>\n",
              "      <td>0.0</td>\n",
              "    </tr>\n",
              "  </tbody>\n",
              "</table>\n",
              "<p>5 rows × 54 columns</p>\n",
              "</div>"
            ],
            "text/plain": [
              "   Elevation  Aspect  Slope  Horizontal_Distance_To_Hydrology  \\\n",
              "0     2909.0   294.0   25.0                             182.0   \n",
              "1     3044.0    68.0   10.0                             492.0   \n",
              "2     2669.0   137.0   17.0                              30.0   \n",
              "3     3069.0   243.0   25.0                             808.0   \n",
              "4     2632.0    97.0    8.0                             150.0   \n",
              "\n",
              "   Vertical_Distance_To_Hydrology  Horizontal_Distance_To_Roadways  \\\n",
              "0                            88.0                           5144.0   \n",
              "1                            26.0                           6633.0   \n",
              "2                             6.0                           1776.0   \n",
              "3                           -21.0                           4143.0   \n",
              "4                           -10.0                           1026.0   \n",
              "\n",
              "   Hillshade_9am  Hillshade_Noon  Hillshade_3pm  \\\n",
              "0          141.0           224.0          219.0   \n",
              "1          231.0           220.0          121.0   \n",
              "2          244.0           232.0          111.0   \n",
              "3          162.0           250.0          218.0   \n",
              "4          233.0           229.0          129.0   \n",
              "\n",
              "   Horizontal_Distance_To_Fire_Points  ...  Soil_Type_30  Soil_Type_31  \\\n",
              "0                              4775.0  ...           0.0           0.0   \n",
              "1                              2760.0  ...           0.0           0.0   \n",
              "2                              6508.0  ...           0.0           0.0   \n",
              "3                              1198.0  ...           0.0           0.0   \n",
              "4                              5858.0  ...           0.0           0.0   \n",
              "\n",
              "   Soil_Type_32  Soil_Type_33  Soil_Type_34  Soil_Type_35  Soil_Type_36  \\\n",
              "0           0.0           0.0           0.0           0.0           0.0   \n",
              "1           0.0           0.0           0.0           0.0           0.0   \n",
              "2           0.0           0.0           0.0           0.0           0.0   \n",
              "3           1.0           0.0           0.0           0.0           0.0   \n",
              "4           0.0           0.0           0.0           0.0           0.0   \n",
              "\n",
              "   Soil_Type_37  Soil_Type_38  Soil_Type_39  \n",
              "0           0.0           0.0           0.0  \n",
              "1           0.0           0.0           0.0  \n",
              "2           0.0           0.0           0.0  \n",
              "3           0.0           0.0           0.0  \n",
              "4           0.0           0.0           0.0  \n",
              "\n",
              "[5 rows x 54 columns]"
            ]
          },
          "execution_count": 6,
          "metadata": {},
          "output_type": "execute_result"
        }
      ],
      "source": [
        "df = pd.DataFrame(filtered_data, columns = features)\n",
        "df.head()"
      ]
    },
    {
      "cell_type": "code",
      "execution_count": 7,
      "metadata": {
        "colab": {
          "base_uri": "https://localhost:8080/"
        },
        "id": "UARqW41TT0jE",
        "outputId": "78a6bdd1-fa1e-4e11-f62a-dd14ee40c4b2"
      },
      "outputs": [
        {
          "data": {
            "image/png": "[encoded data removed]",
            "text/plain": [
              "<Figure size 2000x2000 with 2 Axes>"
            ]
          },
          "metadata": {},
          "output_type": "display_data"
        }
      ],
      "source": [
        "##Plot the correlation matrix\n",
        "plt.figure(figsize=(20,20))\n",
        "sns.heatmap(df.corr(), annot=False) \n",
        "plt.show()"
      ]
    },
    {
      "cell_type": "markdown",
      "metadata": {},
      "source": [
        "### Train the models"
      ]
    },
    {
      "cell_type": "code",
      "execution_count": 8,
      "metadata": {
        "id": "ovcU-pJgSGzX"
      },
      "outputs": [],
      "source": [
        "sample_train, sample_test, label_train, label_test = train_test_split(filtered_data, filtered_target, test_size=0.2, random_state=22)\n",
        "\n",
        "#Reduce dimensions\n",
        "n_dim = dim\n",
        "pca = PCA(n_components=n_dim).fit(sample_train)\n",
        "sample_train = pca.transform(sample_train)\n",
        "sample_test = pca.transform(sample_test)\n",
        "\n",
        "#Normalise\n",
        "std_scale = StandardScaler().fit(sample_train)\n",
        "sample_train = std_scale.transform(sample_train)\n",
        "sample_test = std_scale.transform(sample_test)\n",
        "\n",
        "#Scale\n",
        "samples = np.append(sample_train, sample_test, axis=0)\n",
        "minmax_scale = MinMaxScaler((-1, 1)).fit(samples)\n",
        "sample_train = minmax_scale.transform(sample_train)\n",
        "sample_test = minmax_scale.transform(sample_test)"
      ]
    },
    {
      "cell_type": "markdown",
      "metadata": {},
      "source": [
        "#### Explicita"
      ]
    },
    {
      "cell_type": "code",
      "execution_count": 15,
      "metadata": {},
      "outputs": [
        {
          "name": "stdout",
          "output_type": "stream",
          "text": [
            "QSVC linear test score with ZZFeatureMap: 0.8729166666666667\n",
            "QSVC linear time with ZZFeatureMap: 585.3462147712708\n",
            "QSVC circular test score with ZZFeatureMap: 0.8783333333333333\n",
            "QSVC circular time with ZZFeatureMap: 618.6703689098358\n",
            "QSVC full test score with ZZFeatureMap: 0.84625\n",
            "QSVC full time with ZZFeatureMap: 1682.2750720977783\n"
          ]
        }
      ],
      "source": [
        "##QSVC ZZFeatureMap\n",
        "for entanglement in entanglements + ['full']:\n",
        "  zz_map = ZZFeatureMap(feature_dimension=dim, reps=2, entanglement=entanglement)\n",
        "  kernel = QuantumKernel(feature_map=zz_map, quantum_instance=BasicAer.get_backend('statevector_simulator'))\n",
        "\n",
        "  qsvc_model = QSVC(quantum_kernel=kernel)\n",
        "  start_time = time.time()\n",
        "  qsvc_model.fit(sample_train, label_train)\n",
        "  end_time = time.time()\n",
        "  qsvc_model_score = qsvc_model.score(sample_test, label_test)\n",
        "\n",
        "  print(f\"QSVC {entanglement} test score with ZZFeatureMap: {qsvc_model_score}\")\n",
        "  print(f\"QSVC {entanglement} time with ZZFeatureMap: {end_time - start_time}\")"
      ]
    },
    {
      "cell_type": "code",
      "execution_count": 16,
      "metadata": {
        "colab": {
          "base_uri": "https://localhost:8080/"
        },
        "id": "k4zW55-wcVVa",
        "outputId": "af0841c0-404c-40ad-940c-dfc2b6ba698e"
      },
      "outputs": [
        {
          "name": "stdout",
          "output_type": "stream",
          "text": [
            "QSVC linear test score with PauliFeatureMap: 0.855\n",
            "QSVC linear time with PauliFeatureMap: 639.7012674808502\n",
            "QSVC circular test score with PauliFeatureMap: 0.8545833333333334\n",
            "QSVC circular time with PauliFeatureMap: 670.7510762214661\n",
            "QSVC full test score with PauliFeatureMap: 0.6979166666666666\n",
            "QSVC full time with PauliFeatureMap: 1724.3661062717438\n"
          ]
        }
      ],
      "source": [
        "##QSVC PauliFeatureMap\n",
        "for entanglement in entanglements + ['full']:\n",
        "  map_pauli = PauliFeatureMap(feature_dimension=dim, reps=2, entanglement=entanglement, paulis=paulis)\n",
        "  kernel = QuantumKernel(feature_map=map_pauli, quantum_instance=BasicAer.get_backend('statevector_simulator'))\n",
        "\n",
        "  \n",
        "  qsvc_model = QSVC(quantum_kernel=kernel)\n",
        "  start_time = time.time()\n",
        "  qsvc_model.fit(sample_train, label_train)\n",
        "  end_time = time.time()\n",
        "  qsvc_model_score = qsvc_model.score(sample_test, label_test)\n",
        "  \n",
        "  print(f\"QSVC {entanglement} test score with PauliFeatureMap: {qsvc_model_score}\")\n",
        "  print(f\"QSVC {entanglement} time with PauliFeatureMap: {end_time - start_time}\")"
      ]
    },
    {
      "cell_type": "code",
      "execution_count": 12,
      "metadata": {},
      "outputs": [
        {
          "name": "stdout",
          "output_type": "stream",
          "text": [
            "QSVC linear test score with NLocalFeatureMap: 0.82875\n",
            "QSVC linear time with NLocalFeatureMap: 595.8845045566559\n",
            "QSVC circular test score with NLocalFeatureMap: 0.82625\n",
            "QSVC circular time with NLocalFeatureMap: 656.9410235881805\n"
          ]
        }
      ],
      "source": [
        "##QSVC NLocalFeatureMap\n",
        "for entanglement in entanglements:\n",
        "  nlocal = NLocal(num_qubits=dim, reps=2, rotation_blocks=rot, entanglement_blocks=ent, entanglement=entanglement, overwrite_block_parameters=False)\n",
        "  kernel = QuantumKernel(feature_map=nlocal, quantum_instance=BasicAer.get_backend('statevector_simulator'))\n",
        "\n",
        "  qsvc_model = QSVC(quantum_kernel=kernel)\n",
        "  start_time = time.time()\n",
        "  qsvc_model.fit(sample_train, label_train)\n",
        "  end_time = time.time()\n",
        "  qsvc_model_score = qsvc_model.score(sample_test, label_test)\n",
        "\n",
        "  print(f\"QSVC {entanglement} test score with NLocalFeatureMap: {qsvc_model_score}\")\n",
        "  print(f\"QSVC {entanglement} time with NLocalFeatureMap: {end_time - start_time}\")"
      ]
    },
    {
      "cell_type": "markdown",
      "metadata": {},
      "source": [
        "#### Segunda version"
      ]
    },
    {
      "cell_type": "code",
      "execution_count": 10,
      "metadata": {},
      "outputs": [
        {
          "name": "stdout",
          "output_type": "stream",
          "text": [
            "QSVC linear test score with ZZFeatureMap: 0.8525\n",
            "QSVC linear time with ZZFeatureMap: 636.9080638885498\n",
            "QSVC circular test score with ZZFeatureMap: 0.85875\n",
            "QSVC circular time with ZZFeatureMap: 659.6244039535522\n"
          ]
        }
      ],
      "source": [
        "##QSVC ZZFeatureMap with 3 reps\n",
        "for entanglement in entanglements:\n",
        "  zz_map = ZZFeatureMap(feature_dimension=dim, reps=3, entanglement=entanglement)\n",
        "  kernel = QuantumKernel(feature_map=zz_map, quantum_instance=BasicAer.get_backend('statevector_simulator'))\n",
        "\n",
        "  qsvc_model = QSVC(quantum_kernel=kernel)\n",
        "  start_time = time.time()\n",
        "  qsvc_model.fit(sample_train, label_train)\n",
        "  end_time = time.time()\n",
        "  qsvc_model_score = qsvc_model.score(sample_test, label_test)\n",
        "\n",
        "  print(f\"QSVC {entanglement} test score with ZZFeatureMap: {qsvc_model_score}\")\n",
        "  print(f\"QSVC {entanglement} time with ZZFeatureMap: {end_time - start_time}\")"
      ]
    },
    {
      "cell_type": "code",
      "execution_count": 11,
      "metadata": {},
      "outputs": [
        {
          "name": "stdout",
          "output_type": "stream",
          "text": [
            "QSVC linear test score with PauliFeatureMap: 0.8591666666666666\n",
            "QSVC linear time with PauliFeatureMap: 696.907398223877\n",
            "QSVC circular test score with PauliFeatureMap: 0.8508333333333333\n",
            "QSVC circular time with PauliFeatureMap: 724.2630693912506\n"
          ]
        }
      ],
      "source": [
        "##QSVC PauliFeatureMap with 3 reps\n",
        "for entanglement in entanglements:\n",
        "  map_pauli = PauliFeatureMap(feature_dimension=dim, reps=3, entanglement=entanglement, paulis=paulis)\n",
        "  kernel = QuantumKernel(feature_map=map_pauli, quantum_instance=BasicAer.get_backend('statevector_simulator'))\n",
        "\n",
        "  \n",
        "  qsvc_model = QSVC(quantum_kernel=kernel)\n",
        "  start_time = time.time()\n",
        "  qsvc_model.fit(sample_train, label_train)\n",
        "  end_time = time.time()\n",
        "  qsvc_model_score = qsvc_model.score(sample_test, label_test)\n",
        "  \n",
        "  print(f\"QSVC {entanglement} test score with PauliFeatureMap: {qsvc_model_score}\")\n",
        "  print(f\"QSVC {entanglement} time with PauliFeatureMap: {end_time - start_time}\")"
      ]
    },
    {
      "cell_type": "code",
      "execution_count": 12,
      "metadata": {},
      "outputs": [
        {
          "name": "stdout",
          "output_type": "stream",
          "text": [
            "QSVC linear test score with NLocalFeatureMap: 0.84875\n",
            "QSVC linear time with NLocalFeatureMap: 723.8759231567383\n",
            "QSVC circular test score with NLocalFeatureMap: 0.85\n",
            "QSVC circular time with NLocalFeatureMap: 785.4058935642242\n"
          ]
        }
      ],
      "source": [
        "##QSVC NLocalFeatureMap with 3 reps\n",
        "for entanglement in entanglements:\n",
        "  nlocal = NLocal(num_qubits=dim, reps=3, rotation_blocks=rot, entanglement_blocks=ent, entanglement=entanglement, overwrite_block_parameters=False)\n",
        "  kernel = QuantumKernel(feature_map=nlocal, quantum_instance=BasicAer.get_backend('statevector_simulator'))\n",
        "\n",
        "  qsvc_model = QSVC(quantum_kernel=kernel)\n",
        "  start_time = time.time()\n",
        "  qsvc_model.fit(sample_train, label_train)\n",
        "  end_time = time.time()\n",
        "  qsvc_model_score = qsvc_model.score(sample_test, label_test)\n",
        "\n",
        "  print(f\"QSVC {entanglement} test score with NLocalFeatureMap: {qsvc_model_score}\")\n",
        "  print(f\"QSVC {entanglement} time with NLocalFeatureMap: {end_time - start_time}\")"
      ]
    },
    {
      "cell_type": "code",
      "execution_count": 13,
      "metadata": {},
      "outputs": [
        {
          "name": "stdout",
          "output_type": "stream",
          "text": [
            "QSVC linear test score with PauliFeatureMap: 0.8566666666666667\n",
            "QSVC linear time with PauliFeatureMap: 648.7500619888306\n",
            "QSVC circular test score with PauliFeatureMap: 0.86\n",
            "QSVC circular time with PauliFeatureMap: 673.0269994735718\n"
          ]
        }
      ],
      "source": [
        "##QSVC PauliFeatureMap with 4 paulis\n",
        "for entanglement in entanglements:\n",
        "  map_pauli = PauliFeatureMap(feature_dimension=dim, reps=2, entanglement=entanglement, paulis=paulis + ['Z'])\n",
        "  kernel = QuantumKernel(feature_map=map_pauli, quantum_instance=BasicAer.get_backend('statevector_simulator'))\n",
        "\n",
        "  \n",
        "  qsvc_model = QSVC(quantum_kernel=kernel)\n",
        "  start_time = time.time()\n",
        "  qsvc_model.fit(sample_train, label_train)\n",
        "  end_time = time.time()\n",
        "  qsvc_model_score = qsvc_model.score(sample_test, label_test)\n",
        "  \n",
        "  print(f\"QSVC {entanglement} test score with PauliFeatureMap: {qsvc_model_score}\")\n",
        "  print(f\"QSVC {entanglement} time with PauliFeatureMap: {end_time - start_time}\")"
      ]
    },
    {
      "cell_type": "code",
      "execution_count": 14,
      "metadata": {},
      "outputs": [
        {
          "name": "stdout",
          "output_type": "stream",
          "text": [
            "QSVC linear test score with NLocalFeatureMap: 0.8595833333333334\n",
            "QSVC linear time with NLocalFeatureMap: 701.044629573822\n",
            "QSVC circular test score with NLocalFeatureMap: 0.84875\n",
            "QSVC circular time with NLocalFeatureMap: 777.2302992343903\n"
          ]
        }
      ],
      "source": [
        "##NLocal config\n",
        "params_s = ParameterVector('n', dim)\n",
        "\n",
        "#Rotation block:\n",
        "rot_s = QuantumCircuit(4)\n",
        "rot_s.ry(params_s[0], 0)\n",
        "rot_s.rz(params_s[1], 1)\n",
        "rot_s.rx(params_s[2], 2)\n",
        "rot_s.rx(params_s[3], 3)\n",
        "\n",
        "#Entanglement block:\n",
        "ent_s = QuantumCircuit(5) \n",
        "ent_s.cry(params_s[4], 0, 1)\n",
        "ent_s.cry(params_s[5], 2, 3)\n",
        "ent_s.crz(params_s[6], 0, 2)\n",
        "ent_s.crz(params_s[7], 1, 3)\n",
        "ent_s.cry(params_s[8], 1, 2)\n",
        "ent_s.cry(params_s[9], 0, 3)\n",
        "\n",
        "##QSVC NLocalFeatureMap with new entanglemente blocks\n",
        "for entanglement in entanglements:\n",
        "  nlocal = NLocal(num_qubits=dim, reps=3, rotation_blocks=rot_s, entanglement_blocks=ent_s, entanglement=entanglement, overwrite_block_parameters=False)\n",
        "  kernel = QuantumKernel(feature_map=nlocal, quantum_instance=BasicAer.get_backend('statevector_simulator'))\n",
        "\n",
        "  qsvc_model = QSVC(quantum_kernel=kernel)\n",
        "  start_time = time.time()\n",
        "  qsvc_model.fit(sample_train, label_train)\n",
        "  end_time = time.time()\n",
        "  qsvc_model_score = qsvc_model.score(sample_test, label_test)\n",
        "\n",
        "  print(f\"QSVC {entanglement} test score with NLocalFeatureMap: {qsvc_model_score}\")\n",
        "  print(f\"QSVC {entanglement} time with NLocalFeatureMap: {end_time - start_time}\")"
      ]
    },
    {
      "cell_type": "code",
      "execution_count": 9,
      "metadata": {},
      "outputs": [
        {
          "name": "stdout",
          "output_type": "stream",
          "text": [
            "QSVC linear test score with ZZFeatureMap: 0.8941666666666667\n",
            "QSVC linear time with ZZFeatureMap: 567.3242573738098\n",
            "QSVC circular test score with ZZFeatureMap: 0.895\n",
            "QSVC circular time with ZZFeatureMap: 578.9020006656647\n"
          ]
        }
      ],
      "source": [
        "##QSVC ZZFeatureMap with 1 reps\n",
        "for entanglement in entanglements:\n",
        "  zz_map = ZZFeatureMap(feature_dimension=dim, reps=1, entanglement=entanglement)\n",
        "  kernel = QuantumKernel(feature_map=zz_map, quantum_instance=BasicAer.get_backend('statevector_simulator'))\n",
        "\n",
        "  qsvc_model = QSVC(quantum_kernel=kernel)\n",
        "  start_time = time.time()\n",
        "  qsvc_model.fit(sample_train, label_train)\n",
        "  end_time = time.time()\n",
        "  qsvc_model_score = qsvc_model.score(sample_test, label_test)\n",
        "\n",
        "  print(f\"QSVC {entanglement} test score with ZZFeatureMap: {qsvc_model_score}\")\n",
        "  print(f\"QSVC {entanglement} time with ZZFeatureMap: {end_time - start_time}\")"
      ]
    },
    {
      "cell_type": "code",
      "execution_count": 10,
      "metadata": {},
      "outputs": [
        {
          "name": "stdout",
          "output_type": "stream",
          "text": [
            "QSVC linear test score with PauliFeatureMap: 0.8841666666666667\n",
            "QSVC linear time with PauliFeatureMap: 575.5862703323364\n",
            "QSVC circular test score with PauliFeatureMap: 0.8870833333333333\n",
            "QSVC circular time with PauliFeatureMap: 594.5619988441467\n"
          ]
        }
      ],
      "source": [
        "##QSVC PauliFeatureMap with 1 reps\n",
        "for entanglement in entanglements:\n",
        "  map_pauli = PauliFeatureMap(feature_dimension=dim, reps=1, entanglement=entanglement, paulis=paulis)\n",
        "  kernel = QuantumKernel(feature_map=map_pauli, quantum_instance=BasicAer.get_backend('statevector_simulator'))\n",
        "\n",
        "  \n",
        "  qsvc_model = QSVC(quantum_kernel=kernel)\n",
        "  start_time = time.time()\n",
        "  qsvc_model.fit(sample_train, label_train)\n",
        "  end_time = time.time()\n",
        "  qsvc_model_score = qsvc_model.score(sample_test, label_test)\n",
        "  \n",
        "  print(f\"QSVC {entanglement} test score with PauliFeatureMap: {qsvc_model_score}\")\n",
        "  print(f\"QSVC {entanglement} time with PauliFeatureMap: {end_time - start_time}\")"
      ]
    },
    {
      "cell_type": "markdown",
      "metadata": {},
      "source": [
        "#### Clásica"
      ]
    },
    {
      "cell_type": "code",
      "execution_count": 8,
      "metadata": {
        "colab": {
          "base_uri": "https://localhost:8080/"
        },
        "id": "tas5bjrKbnmQ",
        "outputId": "b9e33d4a-a302-4122-a0a7-af3defa4ba0a"
      },
      "outputs": [
        {
          "name": "stdout",
          "output_type": "stream",
          "text": [
            "QSVC linear test score: 0.7508333333333334\n",
            "QSVC linear time: 1.6090319156646729\n",
            "QSVC poly test score: 0.8416666666666667\n",
            "QSVC poly time: 1.4820003509521484\n",
            "QSVC rbf test score: 0.8445833333333334\n",
            "QSVC rbf time: 1.589003324508667\n",
            "QSVC sigmoid test score: 0.5104166666666666\n",
            "QSVC sigmoid time: 3.138029098510742\n"
          ]
        }
      ],
      "source": [
        "##Classical\n",
        "classical_kernels = ['linear', 'poly', 'rbf', 'sigmoid']\n",
        "\n",
        "for kernel in classical_kernels:\n",
        "  classical_svc = SVC(kernel=kernel)\n",
        "  start_time = time.time()\n",
        "  classical_svc.fit(sample_train, label_train)\n",
        "  end_time = time.time()\n",
        "  classical_score = classical_svc.score(sample_test, label_test)  \n",
        "\n",
        "  print(f\"QSVC {kernel} test score: {classical_score}\")\n",
        "  print(f\"QSVC {kernel} time: {end_time - start_time}\")"
      ]
    },
    {
      "cell_type": "markdown",
      "metadata": {},
      "source": [
        "## Multiclass classification"
      ]
    },
    {
      "cell_type": "code",
      "execution_count": 11,
      "metadata": {},
      "outputs": [],
      "source": [
        "##Take amount of data from the filtered data\n",
        "amount_class = 2000\n",
        "\n",
        "filtered_data = data[target==1][:amount_class]\n",
        "filtered_target = target[target==1][:amount_class]\n",
        "\n",
        "for type_class in [2,3,4,5,6,7]:\n",
        "  filtered_data = np.concatenate((filtered_data, data[target==type_class][:amount_class]))\n",
        "  filtered_target = np.concatenate((filtered_target, target[target==type_class][:amount_class]))\n",
        "\n",
        "filtered_data, filtered_target = shuffle(filtered_data, filtered_target, random_state=0)"
      ]
    },
    {
      "cell_type": "markdown",
      "metadata": {},
      "source": [
        "### Train the models"
      ]
    },
    {
      "cell_type": "code",
      "execution_count": 12,
      "metadata": {},
      "outputs": [],
      "source": [
        "sample_train, sample_test, label_train, label_test = train_test_split(filtered_data, filtered_target, test_size=0.2, random_state=22)\n",
        "\n",
        "#Reduce dimensions\n",
        "n_dim = 10\n",
        "pca = PCA(n_components=n_dim).fit(sample_train)\n",
        "sample_train = pca.transform(sample_train)\n",
        "sample_test = pca.transform(sample_test)\n",
        "\n",
        "#Normalise\n",
        "std_scale = StandardScaler().fit(sample_train)\n",
        "sample_train = std_scale.transform(sample_train)\n",
        "sample_test = std_scale.transform(sample_test)\n",
        "\n",
        "#Scale\n",
        "samples = np.append(sample_train, sample_test, axis=0)\n",
        "minmax_scale = MinMaxScaler((-1, 1)).fit(samples)\n",
        "sample_train = minmax_scale.transform(sample_train)\n",
        "sample_test = minmax_scale.transform(sample_test)"
      ]
    },
    {
      "cell_type": "code",
      "execution_count": 50,
      "metadata": {},
      "outputs": [
        {
          "name": "stdout",
          "output_type": "stream",
          "text": [
            "QSVC linear test score with ZZFeatureMap: 0.6921428571428572\n",
            "QSVC linear time with ZZFeatureMap: 730.9964480400085\n",
            "QSVC circular test score with ZZFeatureMap: 0.7271428571428571\n",
            "QSVC circular time with ZZFeatureMap: 767.0991065502167\n"
          ]
        }
      ],
      "source": [
        "##QSVC ZZFeatureMap\n",
        "for entanglement in entanglements:\n",
        "  zz_map = ZZFeatureMap(feature_dimension=dim, reps=2, entanglement=entanglement)\n",
        "  kernel = QuantumKernel(feature_map=zz_map, quantum_instance=BasicAer.get_backend('statevector_simulator'))\n",
        "\n",
        "  qsvc_model = QSVC(quantum_kernel=kernel)\n",
        "  start_time = time.time()\n",
        "  qsvc_model.fit(sample_train, label_train)\n",
        "  end_time = time.time()\n",
        "  qsvc_model_score = qsvc_model.score(sample_test, label_test)\n",
        "\n",
        "  print(f\"QSVC {entanglement} test score with ZZFeatureMap: {qsvc_model_score}\")\n",
        "  print(f\"QSVC {entanglement} time with ZZFeatureMap: {end_time - start_time}\")"
      ]
    },
    {
      "cell_type": "code",
      "execution_count": 51,
      "metadata": {},
      "outputs": [
        {
          "name": "stdout",
          "output_type": "stream",
          "text": [
            "QSVC linear test score with PauliFeatureMap: 0.6664285714285715\n",
            "QSVC linear time with PauliFeatureMap: 776.812028169632\n",
            "QSVC circular test score with PauliFeatureMap: 0.6778571428571428\n",
            "QSVC circular time with PauliFeatureMap: 813.4986791610718\n"
          ]
        }
      ],
      "source": [
        "##QSVC PauliFeatureMap\n",
        "for entanglement in entanglements:\n",
        "  map_pauli = PauliFeatureMap(feature_dimension=dim, reps=2, entanglement=entanglement, paulis=paulis)\n",
        "  kernel = QuantumKernel(feature_map=map_pauli, quantum_instance=BasicAer.get_backend('statevector_simulator'))\n",
        "\n",
        "  \n",
        "  qsvc_model = QSVC(quantum_kernel=kernel)\n",
        "  start_time = time.time()\n",
        "  qsvc_model.fit(sample_train, label_train)\n",
        "  end_time = time.time()\n",
        "  qsvc_model_score = qsvc_model.score(sample_test, label_test)\n",
        "  \n",
        "  print(f\"QSVC {entanglement} test score with PauliFeatureMap: {qsvc_model_score}\")\n",
        "  print(f\"QSVC {entanglement} time with PauliFeatureMap: {end_time - start_time}\")"
      ]
    },
    {
      "cell_type": "code",
      "execution_count": 53,
      "metadata": {},
      "outputs": [
        {
          "name": "stdout",
          "output_type": "stream",
          "text": [
            "QSVC linear test score with NLocalFeatureMap: 0.6610714285714285\n",
            "QSVC linear time with NLocalFeatureMap: 773.112028837204\n",
            "QSVC circular test score with NLocalFeatureMap: 0.6621428571428571\n",
            "QSVC circular time with NLocalFeatureMap: 823.0320830345154\n"
          ]
        }
      ],
      "source": [
        "##QSVC NLocalFeatureMap\n",
        "for entanglement in entanglements:\n",
        "  nlocal = NLocal(num_qubits=dim, reps=2, rotation_blocks=rot, entanglement_blocks=ent, entanglement=entanglement, overwrite_block_parameters=False)\n",
        "  kernel = QuantumKernel(feature_map=nlocal, quantum_instance=BasicAer.get_backend('statevector_simulator'))\n",
        "\n",
        "  qsvc_model = QSVC(quantum_kernel=kernel)\n",
        "  start_time = time.time()\n",
        "  qsvc_model.fit(sample_train, label_train)\n",
        "  end_time = time.time()\n",
        "  qsvc_model_score = qsvc_model.score(sample_test, label_test)\n",
        "\n",
        "  print(f\"QSVC {entanglement} test score with NLocalFeatureMap: {qsvc_model_score}\")\n",
        "  print(f\"QSVC {entanglement} time with NLocalFeatureMap: {end_time - start_time}\")"
      ]
    },
    {
      "cell_type": "code",
      "execution_count": 11,
      "metadata": {},
      "outputs": [
        {
          "name": "stdout",
          "output_type": "stream",
          "text": [
            "QSVC linear test score: 0.6575\n",
            "QSVC linear time: 1.2780299186706543\n",
            "QSVC poly test score: 0.7346428571428572\n",
            "QSVC poly time: 1.2270009517669678\n",
            "QSVC rbf test score: 0.7278571428571429\n",
            "QSVC rbf time: 1.6140005588531494\n",
            "QSVC sigmoid test score: 0.2517857142857143\n",
            "QSVC sigmoid time: 3.994032621383667\n"
          ]
        }
      ],
      "source": [
        "##Classical\n",
        "classical_kernels = ['linear', 'poly', 'rbf', 'sigmoid']\n",
        "\n",
        "for kernel in classical_kernels:\n",
        "  classical_svc = SVC(kernel=kernel)\n",
        "  start_time = time.time()\n",
        "  classical_svc.fit(sample_train, label_train)\n",
        "  end_time = time.time()\n",
        "  classical_score = classical_svc.score(sample_test, label_test)  \n",
        "\n",
        "  print(f\"QSVC {kernel} test score: {classical_score}\")\n",
        "  print(f\"QSVC {kernel} time: {end_time - start_time}\")"
      ]
    },
    {
      "cell_type": "code",
      "execution_count": 55,
      "metadata": {},
      "outputs": [
        {
          "name": "stdout",
          "output_type": "stream",
          "text": [
            "QSVC full test score with ZZFeatureMap: 0.5935714285714285\n",
            "QSVC full time with ZZFeatureMap: 2056.3111453056335\n"
          ]
        }
      ],
      "source": [
        "##QSVC full ZZFeatureMap\n",
        "zz_map = ZZFeatureMap(feature_dimension=dim, reps=2, entanglement='full')\n",
        "kernel = QuantumKernel(feature_map=zz_map, quantum_instance=BasicAer.get_backend('statevector_simulator'))\n",
        "\n",
        "qsvc_model = QSVC(quantum_kernel=kernel)\n",
        "start_time = time.time()\n",
        "qsvc_model.fit(sample_train, label_train)\n",
        "end_time = time.time()\n",
        "qsvc_model_score = qsvc_model.score(sample_test, label_test)\n",
        "\n",
        "print(f\"QSVC full test score with ZZFeatureMap: {qsvc_model_score}\")\n",
        "print(f\"QSVC full time with ZZFeatureMap: {end_time - start_time}\")"
      ]
    },
    {
      "cell_type": "code",
      "execution_count": 56,
      "metadata": {},
      "outputs": [
        {
          "name": "stdout",
          "output_type": "stream",
          "text": [
            "QSVC full test score with PauliFeatureMap: 0.43\n",
            "QSVC full time with PauliFeatureMap: 2101.796033143997\n"
          ]
        }
      ],
      "source": [
        "##QSVC full PauliFeatureMap\n",
        "map_pauli = PauliFeatureMap(feature_dimension=dim, reps=2, entanglement='full', paulis=paulis)\n",
        "kernel = QuantumKernel(feature_map=map_pauli, quantum_instance=BasicAer.get_backend('statevector_simulator'))\n",
        "\n",
        "\n",
        "qsvc_model = QSVC(quantum_kernel=kernel)\n",
        "start_time = time.time()\n",
        "qsvc_model.fit(sample_train, label_train)\n",
        "end_time = time.time()\n",
        "qsvc_model_score = qsvc_model.score(sample_test, label_test)\n",
        "\n",
        "print(f\"QSVC full test score with PauliFeatureMap: {qsvc_model_score}\")\n",
        "print(f\"QSVC full time with PauliFeatureMap: {end_time - start_time}\")"
      ]
    },
    {
      "cell_type": "markdown",
      "metadata": {},
      "source": [
        "#### Segunda version"
      ]
    },
    {
      "cell_type": "code",
      "execution_count": 17,
      "metadata": {},
      "outputs": [
        {
          "name": "stdout",
          "output_type": "stream",
          "text": [
            "QSVC linear test score with ZZFeatureMap: 0.685\n",
            "QSVC linear time with ZZFeatureMap: 771.9927563667297\n",
            "QSVC circular test score with ZZFeatureMap: 0.7053571428571429\n",
            "QSVC circular time with ZZFeatureMap: 810.1520891189575\n"
          ]
        }
      ],
      "source": [
        "##QSVC ZZFeatureMap with 3 reps\n",
        "for entanglement in entanglements:\n",
        "  zz_map = ZZFeatureMap(feature_dimension=dim, reps=3, entanglement=entanglement)\n",
        "  kernel = QuantumKernel(feature_map=zz_map, quantum_instance=BasicAer.get_backend('statevector_simulator'))\n",
        "\n",
        "  qsvc_model = QSVC(quantum_kernel=kernel)\n",
        "  start_time = time.time()\n",
        "  qsvc_model.fit(sample_train, label_train)\n",
        "  end_time = time.time()\n",
        "  qsvc_model_score = qsvc_model.score(sample_test, label_test)\n",
        "\n",
        "  print(f\"QSVC {entanglement} test score with ZZFeatureMap: {qsvc_model_score}\")\n",
        "  print(f\"QSVC {entanglement} time with ZZFeatureMap: {end_time - start_time}\")"
      ]
    },
    {
      "cell_type": "code",
      "execution_count": 18,
      "metadata": {},
      "outputs": [
        {
          "name": "stdout",
          "output_type": "stream",
          "text": [
            "QSVC linear test score with PauliFeatureMap: 0.6435714285714286\n",
            "QSVC linear time with PauliFeatureMap: 852.9502084255219\n",
            "QSVC circular test score with PauliFeatureMap: 0.6360714285714286\n",
            "QSVC circular time with PauliFeatureMap: 902.283974647522\n"
          ]
        }
      ],
      "source": [
        "##QSVC PauliFeatureMap with 3 reps\n",
        "for entanglement in entanglements:\n",
        "  map_pauli = PauliFeatureMap(feature_dimension=dim, reps=3, entanglement=entanglement, paulis=paulis)\n",
        "  kernel = QuantumKernel(feature_map=map_pauli, quantum_instance=BasicAer.get_backend('statevector_simulator'))\n",
        "\n",
        "  \n",
        "  qsvc_model = QSVC(quantum_kernel=kernel)\n",
        "  start_time = time.time()\n",
        "  qsvc_model.fit(sample_train, label_train)\n",
        "  end_time = time.time()\n",
        "  qsvc_model_score = qsvc_model.score(sample_test, label_test)\n",
        "  \n",
        "  print(f\"QSVC {entanglement} test score with PauliFeatureMap: {qsvc_model_score}\")\n",
        "  print(f\"QSVC {entanglement} time with PauliFeatureMap: {end_time - start_time}\")"
      ]
    },
    {
      "cell_type": "code",
      "execution_count": 19,
      "metadata": {},
      "outputs": [
        {
          "name": "stdout",
          "output_type": "stream",
          "text": [
            "QSVC linear test score with NLocalFeatureMap: 0.7171428571428572\n",
            "QSVC linear time with NLocalFeatureMap: 882.228640794754\n",
            "QSVC circular test score with NLocalFeatureMap: 0.7135714285714285\n",
            "QSVC circular time with NLocalFeatureMap: 968.2281713485718\n"
          ]
        }
      ],
      "source": [
        "##QSVC NLocalFeatureMap with 3 reps\n",
        "for entanglement in entanglements:\n",
        "  nlocal = NLocal(num_qubits=dim, reps=3, rotation_blocks=rot, entanglement_blocks=ent, entanglement=entanglement, overwrite_block_parameters=False)\n",
        "  kernel = QuantumKernel(feature_map=nlocal, quantum_instance=BasicAer.get_backend('statevector_simulator'))\n",
        "\n",
        "  qsvc_model = QSVC(quantum_kernel=kernel)\n",
        "  start_time = time.time()\n",
        "  qsvc_model.fit(sample_train, label_train)\n",
        "  end_time = time.time()\n",
        "  qsvc_model_score = qsvc_model.score(sample_test, label_test)\n",
        "\n",
        "  print(f\"QSVC {entanglement} test score with NLocalFeatureMap: {qsvc_model_score}\")\n",
        "  print(f\"QSVC {entanglement} time with NLocalFeatureMap: {end_time - start_time}\")"
      ]
    },
    {
      "cell_type": "code",
      "execution_count": 20,
      "metadata": {},
      "outputs": [
        {
          "name": "stdout",
          "output_type": "stream",
          "text": [
            "QSVC linear test score with PauliFeatureMap: 0.6778571428571428\n",
            "QSVC linear time with PauliFeatureMap: 792.8421590328217\n",
            "QSVC circular test score with PauliFeatureMap: 0.6878571428571428\n",
            "QSVC circular time with PauliFeatureMap: 847.5616466999054\n"
          ]
        }
      ],
      "source": [
        "##QSVC PauliFeatureMap with 4 paulis\n",
        "for entanglement in entanglements:\n",
        "  map_pauli = PauliFeatureMap(feature_dimension=dim, reps=2, entanglement=entanglement, paulis=paulis + ['Z'])\n",
        "  kernel = QuantumKernel(feature_map=map_pauli, quantum_instance=BasicAer.get_backend('statevector_simulator'))\n",
        "\n",
        "  \n",
        "  qsvc_model = QSVC(quantum_kernel=kernel)\n",
        "  start_time = time.time()\n",
        "  qsvc_model.fit(sample_train, label_train)\n",
        "  end_time = time.time()\n",
        "  qsvc_model_score = qsvc_model.score(sample_test, label_test)\n",
        "  \n",
        "  print(f\"QSVC {entanglement} test score with PauliFeatureMap: {qsvc_model_score}\")\n",
        "  print(f\"QSVC {entanglement} time with PauliFeatureMap: {end_time - start_time}\")"
      ]
    },
    {
      "cell_type": "code",
      "execution_count": 21,
      "metadata": {},
      "outputs": [
        {
          "name": "stdout",
          "output_type": "stream",
          "text": [
            "QSVC linear test score with NLocalFeatureMap: 0.7639285714285714\n",
            "QSVC linear time with NLocalFeatureMap: 873.4960293769836\n",
            "QSVC circular test score with NLocalFeatureMap: 0.765\n",
            "QSVC circular time with NLocalFeatureMap: 953.6711146831512\n"
          ]
        }
      ],
      "source": [
        "##NLocal config\n",
        "params_s = ParameterVector('n', dim)\n",
        "\n",
        "#Rotation block:\n",
        "rot_s = QuantumCircuit(4)\n",
        "rot_s.ry(params_s[0], 0)\n",
        "rot_s.rz(params_s[1], 1)\n",
        "rot_s.rx(params_s[2], 2)\n",
        "rot_s.rx(params_s[3], 3)\n",
        "\n",
        "#Entanglement block:\n",
        "ent_s = QuantumCircuit(5) \n",
        "ent_s.cry(params_s[4], 0, 1)\n",
        "ent_s.cry(params_s[5], 2, 3)\n",
        "ent_s.crz(params_s[6], 0, 2)\n",
        "ent_s.crz(params_s[7], 1, 3)\n",
        "ent_s.cry(params_s[8], 1, 2)\n",
        "ent_s.cry(params_s[9], 0, 3)\n",
        "\n",
        "##QSVC NLocalFeatureMap with new entanglemente blocks\n",
        "for entanglement in entanglements:\n",
        "  nlocal = NLocal(num_qubits=dim, reps=3, rotation_blocks=rot_s, entanglement_blocks=ent_s, entanglement=entanglement, overwrite_block_parameters=False)\n",
        "  kernel = QuantumKernel(feature_map=nlocal, quantum_instance=BasicAer.get_backend('statevector_simulator'))\n",
        "\n",
        "  qsvc_model = QSVC(quantum_kernel=kernel)\n",
        "  start_time = time.time()\n",
        "  qsvc_model.fit(sample_train, label_train)\n",
        "  end_time = time.time()\n",
        "  qsvc_model_score = qsvc_model.score(sample_test, label_test)\n",
        "\n",
        "  print(f\"QSVC {entanglement} test score with NLocalFeatureMap: {qsvc_model_score}\")\n",
        "  print(f\"QSVC {entanglement} time with NLocalFeatureMap: {end_time - start_time}\")"
      ]
    },
    {
      "cell_type": "code",
      "execution_count": 13,
      "metadata": {},
      "outputs": [
        {
          "name": "stdout",
          "output_type": "stream",
          "text": [
            "QSVC linear test score with ZZFeatureMap: 0.735\n",
            "QSVC linear time with ZZFeatureMap: 663.7447195053101\n",
            "QSVC circular test score with ZZFeatureMap: 0.7610714285714286\n",
            "QSVC circular time with ZZFeatureMap: 691.8360364437103\n"
          ]
        }
      ],
      "source": [
        "##QSVC ZZFeatureMap with 1 reps\n",
        "for entanglement in entanglements:\n",
        "  zz_map = ZZFeatureMap(feature_dimension=dim, reps=1, entanglement=entanglement)\n",
        "  kernel = QuantumKernel(feature_map=zz_map, quantum_instance=BasicAer.get_backend('statevector_simulator'))\n",
        "\n",
        "  qsvc_model = QSVC(quantum_kernel=kernel)\n",
        "  start_time = time.time()\n",
        "  qsvc_model.fit(sample_train, label_train)\n",
        "  end_time = time.time()\n",
        "  qsvc_model_score = qsvc_model.score(sample_test, label_test)\n",
        "\n",
        "  print(f\"QSVC {entanglement} test score with ZZFeatureMap: {qsvc_model_score}\")\n",
        "  print(f\"QSVC {entanglement} time with ZZFeatureMap: {end_time - start_time}\")"
      ]
    },
    {
      "cell_type": "code",
      "execution_count": 14,
      "metadata": {},
      "outputs": [
        {
          "name": "stdout",
          "output_type": "stream",
          "text": [
            "QSVC linear test score with PauliFeatureMap: 0.7332142857142857\n",
            "QSVC linear time with PauliFeatureMap: 686.0999929904938\n",
            "QSVC circular test score with PauliFeatureMap: 0.7378571428571429\n",
            "QSVC circular time with PauliFeatureMap: 712.4549639225006\n"
          ]
        }
      ],
      "source": [
        "##QSVC PauliFeatureMap with 1 reps\n",
        "for entanglement in entanglements:\n",
        "  map_pauli = PauliFeatureMap(feature_dimension=dim, reps=1, entanglement=entanglement, paulis=paulis)\n",
        "  kernel = QuantumKernel(feature_map=map_pauli, quantum_instance=BasicAer.get_backend('statevector_simulator'))\n",
        "\n",
        "  \n",
        "  qsvc_model = QSVC(quantum_kernel=kernel)\n",
        "  start_time = time.time()\n",
        "  qsvc_model.fit(sample_train, label_train)\n",
        "  end_time = time.time()\n",
        "  qsvc_model_score = qsvc_model.score(sample_test, label_test)\n",
        "  \n",
        "  print(f\"QSVC {entanglement} test score with PauliFeatureMap: {qsvc_model_score}\")\n",
        "  print(f\"QSVC {entanglement} time with PauliFeatureMap: {end_time - start_time}\")"
      ]
    }
  ],
  "metadata": {
    "colab": {
      "collapsed_sections": [
        "D-L0SfhLQHmo"
      ],
      "name": "QSVM.ipynb",
      "provenance": []
    },
    "kernelspec": {
      "display_name": "Python 3.9.7 ('venv': venv)",
      "language": "python",
      "name": "python3"
    },
    "language_info": {
      "codemirror_mode": {
        "name": "ipython",
        "version": 3
      },
      "file_extension": ".py",
      "mimetype": "text/x-python",
      "name": "python",
      "nbconvert_exporter": "python",
      "pygments_lexer": "ipython3",
      "version": "3.9.7"
    },
    "vscode": {
      "interpreter": {
        "hash": "b9158c6214945e1baec4f3aba672be77760c6db0bafa5992e694a63fbf844e7a"
      }
    }
  },
  "nbformat": 4,
  "nbformat_minor": 0
}
